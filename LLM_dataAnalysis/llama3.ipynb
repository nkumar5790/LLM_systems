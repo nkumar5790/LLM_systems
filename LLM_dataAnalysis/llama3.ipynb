{
 "cells": [
  {
   "cell_type": "code",
   "execution_count": 3,
   "id": "5f795e28-5dcc-4ab5-b96b-d7f1874676f7",
   "metadata": {
    "scrolled": true
   },
   "outputs": [
    {
     "name": "stdout",
     "output_type": "stream",
     "text": [
      "Collecting accelerate\n",
      "  Downloading accelerate-0.30.1-py3-none-any.whl.metadata (18 kB)\n",
      "Requirement already satisfied: numpy>=1.17 in /home/ubuntu/anaconda3/lib/python3.11/site-packages (from accelerate) (1.26.4)\n",
      "Requirement already satisfied: packaging>=20.0 in /home/ubuntu/anaconda3/lib/python3.11/site-packages (from accelerate) (24.0)\n",
      "Requirement already satisfied: psutil in /home/ubuntu/anaconda3/lib/python3.11/site-packages (from accelerate) (5.9.8)\n",
      "Requirement already satisfied: pyyaml in /home/ubuntu/anaconda3/lib/python3.11/site-packages (from accelerate) (6.0.1)\n",
      "Requirement already satisfied: torch>=1.10.0 in /home/ubuntu/anaconda3/lib/python3.11/site-packages (from accelerate) (2.3.0)\n",
      "Requirement already satisfied: huggingface-hub in /home/ubuntu/anaconda3/lib/python3.11/site-packages (from accelerate) (0.23.2)\n",
      "Requirement already satisfied: safetensors>=0.3.1 in /home/ubuntu/anaconda3/lib/python3.11/site-packages (from accelerate) (0.4.3)\n",
      "Requirement already satisfied: filelock in /home/ubuntu/anaconda3/lib/python3.11/site-packages (from torch>=1.10.0->accelerate) (3.13.4)\n",
      "Requirement already satisfied: typing-extensions>=4.8.0 in /home/ubuntu/anaconda3/lib/python3.11/site-packages (from torch>=1.10.0->accelerate) (4.11.0)\n",
      "Requirement already satisfied: sympy in /home/ubuntu/anaconda3/lib/python3.11/site-packages (from torch>=1.10.0->accelerate) (1.12)\n",
      "Requirement already satisfied: networkx in /home/ubuntu/anaconda3/lib/python3.11/site-packages (from torch>=1.10.0->accelerate) (3.3)\n",
      "Requirement already satisfied: jinja2 in /home/ubuntu/anaconda3/lib/python3.11/site-packages (from torch>=1.10.0->accelerate) (3.1.3)\n",
      "Requirement already satisfied: fsspec in /home/ubuntu/anaconda3/lib/python3.11/site-packages (from torch>=1.10.0->accelerate) (2024.3.1)\n",
      "Requirement already satisfied: nvidia-cuda-nvrtc-cu12==12.1.105 in /home/ubuntu/anaconda3/lib/python3.11/site-packages (from torch>=1.10.0->accelerate) (12.1.105)\n",
      "Requirement already satisfied: nvidia-cuda-runtime-cu12==12.1.105 in /home/ubuntu/anaconda3/lib/python3.11/site-packages (from torch>=1.10.0->accelerate) (12.1.105)\n",
      "Requirement already satisfied: nvidia-cuda-cupti-cu12==12.1.105 in /home/ubuntu/anaconda3/lib/python3.11/site-packages (from torch>=1.10.0->accelerate) (12.1.105)\n",
      "Requirement already satisfied: nvidia-cudnn-cu12==8.9.2.26 in /home/ubuntu/anaconda3/lib/python3.11/site-packages (from torch>=1.10.0->accelerate) (8.9.2.26)\n",
      "Requirement already satisfied: nvidia-cublas-cu12==12.1.3.1 in /home/ubuntu/anaconda3/lib/python3.11/site-packages (from torch>=1.10.0->accelerate) (12.1.3.1)\n",
      "Requirement already satisfied: nvidia-cufft-cu12==11.0.2.54 in /home/ubuntu/anaconda3/lib/python3.11/site-packages (from torch>=1.10.0->accelerate) (11.0.2.54)\n",
      "Requirement already satisfied: nvidia-curand-cu12==10.3.2.106 in /home/ubuntu/anaconda3/lib/python3.11/site-packages (from torch>=1.10.0->accelerate) (10.3.2.106)\n",
      "Requirement already satisfied: nvidia-cusolver-cu12==11.4.5.107 in /home/ubuntu/anaconda3/lib/python3.11/site-packages (from torch>=1.10.0->accelerate) (11.4.5.107)\n",
      "Requirement already satisfied: nvidia-cusparse-cu12==12.1.0.106 in /home/ubuntu/anaconda3/lib/python3.11/site-packages (from torch>=1.10.0->accelerate) (12.1.0.106)\n",
      "Requirement already satisfied: nvidia-nccl-cu12==2.20.5 in /home/ubuntu/anaconda3/lib/python3.11/site-packages (from torch>=1.10.0->accelerate) (2.20.5)\n",
      "Requirement already satisfied: nvidia-nvtx-cu12==12.1.105 in /home/ubuntu/anaconda3/lib/python3.11/site-packages (from torch>=1.10.0->accelerate) (12.1.105)\n",
      "Requirement already satisfied: triton==2.3.0 in /home/ubuntu/anaconda3/lib/python3.11/site-packages (from torch>=1.10.0->accelerate) (2.3.0)\n",
      "Requirement already satisfied: nvidia-nvjitlink-cu12 in /home/ubuntu/anaconda3/lib/python3.11/site-packages (from nvidia-cusolver-cu12==11.4.5.107->torch>=1.10.0->accelerate) (12.5.40)\n",
      "Requirement already satisfied: requests in /home/ubuntu/anaconda3/lib/python3.11/site-packages (from huggingface-hub->accelerate) (2.31.0)\n",
      "Requirement already satisfied: tqdm>=4.42.1 in /home/ubuntu/anaconda3/lib/python3.11/site-packages (from huggingface-hub->accelerate) (4.66.2)\n",
      "Requirement already satisfied: MarkupSafe>=2.0 in /home/ubuntu/anaconda3/lib/python3.11/site-packages (from jinja2->torch>=1.10.0->accelerate) (2.1.5)\n",
      "Requirement already satisfied: charset-normalizer<4,>=2 in /home/ubuntu/anaconda3/lib/python3.11/site-packages (from requests->huggingface-hub->accelerate) (3.3.2)\n",
      "Requirement already satisfied: idna<4,>=2.5 in /home/ubuntu/anaconda3/lib/python3.11/site-packages (from requests->huggingface-hub->accelerate) (3.7)\n",
      "Requirement already satisfied: urllib3<3,>=1.21.1 in /home/ubuntu/anaconda3/lib/python3.11/site-packages (from requests->huggingface-hub->accelerate) (2.0.7)\n",
      "Requirement already satisfied: certifi>=2017.4.17 in /home/ubuntu/anaconda3/lib/python3.11/site-packages (from requests->huggingface-hub->accelerate) (2024.2.2)\n",
      "Requirement already satisfied: mpmath>=0.19 in /home/ubuntu/anaconda3/lib/python3.11/site-packages (from sympy->torch>=1.10.0->accelerate) (1.3.0)\n",
      "Downloading accelerate-0.30.1-py3-none-any.whl (302 kB)\n",
      "\u001b[2K   \u001b[38;2;114;156;31m━━━━━━━━━━━━━━━━━━━━━━━━━━━━━━━━━━━━━━━━\u001b[0m \u001b[32m302.6/302.6 kB\u001b[0m \u001b[31m18.9 MB/s\u001b[0m eta \u001b[36m0:00:00\u001b[0m\n",
      "\u001b[?25hInstalling collected packages: accelerate\n",
      "Successfully installed accelerate-0.30.1\n"
     ]
    }
   ],
   "source": [
    "import sys\n",
    "# !{sys.executable} -m pip install --upgrade huggingface-hub\n",
    "# !{sys.executable} -m pip install --upgrade transformers\n",
    "# !{sys.executable} -m pip install torch torchvision torchaudio\n",
    "!{sys.executable} -m pip install accelerate"
   ]
  },
  {
   "cell_type": "code",
   "execution_count": 2,
   "id": "4b5428dd-40e0-48cb-81fb-9c16ac47e894",
   "metadata": {},
   "outputs": [
    {
     "data": {
      "application/vnd.jupyter.widget-view+json": {
       "model_id": "b072c83d4596430ab05145e87caf122b",
       "version_major": 2,
       "version_minor": 0
      },
      "text/plain": [
       "VBox(children=(HTML(value='<center> <img\\nsrc=https://huggingface.co/front/assets/huggingface_logo-noborder.sv…"
      ]
     },
     "metadata": {},
     "output_type": "display_data"
    }
   ],
   "source": [
    "from huggingface_hub import notebook_login\n",
    "notebook_login()"
   ]
  },
  {
   "cell_type": "code",
   "execution_count": 3,
   "id": "ccb709a1-b7de-40fd-84f7-23fe24b48a9e",
   "metadata": {},
   "outputs": [
    {
     "data": {
      "application/vnd.jupyter.widget-view+json": {
       "model_id": "d17705528eb541ab80e560d76e9d0c2d",
       "version_major": 2,
       "version_minor": 0
      },
      "text/plain": [
       "tokenizer_config.json:   0%|          | 0.00/50.6k [00:00<?, ?B/s]"
      ]
     },
     "metadata": {},
     "output_type": "display_data"
    },
    {
     "data": {
      "application/vnd.jupyter.widget-view+json": {
       "model_id": "5a385f38d435452999cabf750fe4c718",
       "version_major": 2,
       "version_minor": 0
      },
      "text/plain": [
       "tokenizer.json:   0%|          | 0.00/9.09M [00:00<?, ?B/s]"
      ]
     },
     "metadata": {},
     "output_type": "display_data"
    },
    {
     "data": {
      "application/vnd.jupyter.widget-view+json": {
       "model_id": "1af45c05995a42308cac74130cd78db2",
       "version_major": 2,
       "version_minor": 0
      },
      "text/plain": [
       "special_tokens_map.json:   0%|          | 0.00/73.0 [00:00<?, ?B/s]"
      ]
     },
     "metadata": {},
     "output_type": "display_data"
    },
    {
     "name": "stderr",
     "output_type": "stream",
     "text": [
      "Special tokens have been added in the vocabulary, make sure the associated word embeddings are fine-tuned or trained.\n"
     ]
    },
    {
     "data": {
      "application/vnd.jupyter.widget-view+json": {
       "model_id": "021fe3af7fc14b739c6d9c36a9812e09",
       "version_major": 2,
       "version_minor": 0
      },
      "text/plain": [
       "config.json:   0%|          | 0.00/654 [00:00<?, ?B/s]"
      ]
     },
     "metadata": {},
     "output_type": "display_data"
    },
    {
     "data": {
      "application/vnd.jupyter.widget-view+json": {
       "model_id": "30fda343f6d347f99735767ead628fbe",
       "version_major": 2,
       "version_minor": 0
      },
      "text/plain": [
       "model.safetensors.index.json:   0%|          | 0.00/23.9k [00:00<?, ?B/s]"
      ]
     },
     "metadata": {},
     "output_type": "display_data"
    },
    {
     "data": {
      "application/vnd.jupyter.widget-view+json": {
       "model_id": "d47e2b2bf05745829849ba768551b6d6",
       "version_major": 2,
       "version_minor": 0
      },
      "text/plain": [
       "Downloading shards:   0%|          | 0/4 [00:00<?, ?it/s]"
      ]
     },
     "metadata": {},
     "output_type": "display_data"
    },
    {
     "data": {
      "application/vnd.jupyter.widget-view+json": {
       "model_id": "646666ce2d3c4e53975233d3bfd5503f",
       "version_major": 2,
       "version_minor": 0
      },
      "text/plain": [
       "model-00001-of-00004.safetensors:   0%|          | 0.00/4.98G [00:00<?, ?B/s]"
      ]
     },
     "metadata": {},
     "output_type": "display_data"
    },
    {
     "data": {
      "application/vnd.jupyter.widget-view+json": {
       "model_id": "1519f43897a442f1b4ac802051660f1e",
       "version_major": 2,
       "version_minor": 0
      },
      "text/plain": [
       "model-00002-of-00004.safetensors:   0%|          | 0.00/5.00G [00:00<?, ?B/s]"
      ]
     },
     "metadata": {},
     "output_type": "display_data"
    },
    {
     "data": {
      "application/vnd.jupyter.widget-view+json": {
       "model_id": "6c9274a8440c476f902c9df4d320d906",
       "version_major": 2,
       "version_minor": 0
      },
      "text/plain": [
       "model-00003-of-00004.safetensors:   0%|          | 0.00/4.92G [00:00<?, ?B/s]"
      ]
     },
     "metadata": {},
     "output_type": "display_data"
    },
    {
     "data": {
      "application/vnd.jupyter.widget-view+json": {
       "model_id": "ab188dd8bcae46bea75893f76e2b395f",
       "version_major": 2,
       "version_minor": 0
      },
      "text/plain": [
       "model-00004-of-00004.safetensors:   0%|          | 0.00/1.17G [00:00<?, ?B/s]"
      ]
     },
     "metadata": {},
     "output_type": "display_data"
    },
    {
     "data": {
      "application/vnd.jupyter.widget-view+json": {
       "model_id": "088f1e9711bc46c0b11c509a0439cb1c",
       "version_major": 2,
       "version_minor": 0
      },
      "text/plain": [
       "Loading checkpoint shards:   0%|          | 0/4 [00:00<?, ?it/s]"
      ]
     },
     "metadata": {},
     "output_type": "display_data"
    },
    {
     "data": {
      "application/vnd.jupyter.widget-view+json": {
       "model_id": "b6ba4239647f49979e0b8f5f57329d78",
       "version_major": 2,
       "version_minor": 0
      },
      "text/plain": [
       "generation_config.json:   0%|          | 0.00/177 [00:00<?, ?B/s]"
      ]
     },
     "metadata": {},
     "output_type": "display_data"
    }
   ],
   "source": [
    "# Load model directly\n",
    "from transformers import AutoTokenizer, AutoModelForCausalLM\n",
    "\n",
    "tokenizer = AutoTokenizer.from_pretrained(\"meta-llama/Meta-Llama-3-8B\")\n",
    "model = AutoModelForCausalLM.from_pretrained(\"meta-llama/Meta-Llama-3-8B\")"
   ]
  },
  {
   "cell_type": "code",
   "execution_count": null,
   "id": "bd0dfaa4-8417-45f3-b91c-0b7f30544498",
   "metadata": {
    "scrolled": true
   },
   "outputs": [],
   "source": []
  },
  {
   "cell_type": "code",
   "execution_count": 1,
   "id": "bd321c23-d1c9-4bd9-bf46-91319620aa84",
   "metadata": {},
   "outputs": [
    {
     "data": {
      "application/vnd.jupyter.widget-view+json": {
       "model_id": "a846f46203bb46d1be78396821a495f0",
       "version_major": 2,
       "version_minor": 0
      },
      "text/plain": [
       "Loading checkpoint shards:   0%|          | 0/4 [00:00<?, ?it/s]"
      ]
     },
     "metadata": {},
     "output_type": "display_data"
    },
    {
     "name": "stderr",
     "output_type": "stream",
     "text": [
      "WARNING:root:Some parameters are on the meta device device because they were offloaded to the cpu.\n",
      "Special tokens have been added in the vocabulary, make sure the associated word embeddings are fine-tuned or trained.\n",
      "Setting `pad_token_id` to `eos_token_id`:128009 for open-end generation.\n"
     ]
    },
    {
     "name": "stdout",
     "output_type": "stream",
     "text": [
      "{'role': 'assistant', 'content': \"Arrrr, me hearty! Me name be Captain Chat, the scurviest pirate chatbot to ever sail the Seven Seas! Me be here to swab the decks with ye, answerin' yer questions and spinnin' ye yarns o' adventure and treasure! So hoist the colors, me hearty, and let's set sail fer a swashbucklin' good time!\"}\n"
     ]
    }
   ],
   "source": [
    "import transformers\n",
    "import torch\n",
    "\n",
    "model_id = \"meta-llama/Meta-Llama-3-8B-Instruct\"\n",
    "\n",
    "pipeline = transformers.pipeline(\n",
    "    \"text-generation\",\n",
    "    model=model_id,\n",
    "    model_kwargs={\"torch_dtype\": torch.bfloat16},\n",
    "    device_map=\"auto\",\n",
    ")\n",
    "\n",
    "messages = [\n",
    "    {\"role\": \"system\", \"content\": \"You are a pirate chatbot who always responds in pirate speak!\"},\n",
    "    {\"role\": \"user\", \"content\": \"Who are you?\"},\n",
    "]\n",
    "\n",
    "terminators = [\n",
    "    pipeline.tokenizer.eos_token_id,\n",
    "    pipeline.tokenizer.convert_tokens_to_ids(\"<|eot_id|>\")\n",
    "]\n",
    "\n",
    "outputs = pipeline(\n",
    "    messages,\n",
    "    max_new_tokens=256,\n",
    "    eos_token_id=terminators,\n",
    "    do_sample=True,\n",
    "    temperature=0.6,\n",
    "    top_p=0.9,\n",
    ")\n",
    "print(outputs[0][\"generated_text\"][-1])\n"
   ]
  },
  {
   "cell_type": "code",
   "execution_count": 5,
   "id": "e5a66f6b-5fd5-4b45-8d2e-9e0c1d28ee63",
   "metadata": {},
   "outputs": [
    {
     "name": "stderr",
     "output_type": "stream",
     "text": [
      "Special tokens have been added in the vocabulary, make sure the associated word embeddings are fine-tuned or trained.\n",
      "/home/ubuntu/anaconda3/lib/python3.11/site-packages/accelerate/utils/modeling.py:1365: UserWarning: Current model requires 4096 bytes of buffer for offloaded layers, which seems does not fit any GPU's remaining memory. If you are experiencing a OOM later, please consider using offload_buffers=True.\n",
      "  warnings.warn(\n"
     ]
    },
    {
     "data": {
      "application/vnd.jupyter.widget-view+json": {
       "model_id": "81d97ee7ccf84cd797270ba0e889c0fb",
       "version_major": 2,
       "version_minor": 0
      },
      "text/plain": [
       "Loading checkpoint shards:   0%|          | 0/4 [00:00<?, ?it/s]"
      ]
     },
     "metadata": {},
     "output_type": "display_data"
    },
    {
     "name": "stderr",
     "output_type": "stream",
     "text": [
      "The attention mask and the pad token id were not set. As a consequence, you may observe unexpected behavior. Please pass your input's `attention_mask` to obtain reliable results.\n",
      "Setting `pad_token_id` to `eos_token_id`:128009 for open-end generation.\n"
     ]
    },
    {
     "name": "stdout",
     "output_type": "stream",
     "text": [
      "Arrr, shiver me timbers! Me name be Captain Chatbot, the scurviest chatbot to ever sail the Seven Seas! I be a swashbucklin' AI, here to chat with ye about all things pirate-y and more! So hoist the colors, me hearty, and let's set sail fer a conversation that'll make ye laugh, cry, and maybe even walk the plank!\n"
     ]
    }
   ],
   "source": [
    "from transformers import AutoTokenizer, AutoModelForCausalLM\n",
    "import torch\n",
    "\n",
    "model_id = \"meta-llama/Meta-Llama-3-8B-Instruct\"\n",
    "\n",
    "tokenizer = AutoTokenizer.from_pretrained(model_id)\n",
    "model = AutoModelForCausalLM.from_pretrained(\n",
    "    model_id,\n",
    "    torch_dtype=torch.bfloat16,\n",
    "    device_map=\"auto\",\n",
    ")\n",
    "\n",
    "messages = [\n",
    "    {\"role\": \"system\", \"content\": \"You are a pirate chatbot who always responds in pirate speak!\"},\n",
    "    {\"role\": \"user\", \"content\": \"Who are you?\"},\n",
    "]\n",
    "\n",
    "input_ids = tokenizer.apply_chat_template(\n",
    "    messages,\n",
    "    add_generation_prompt=True,\n",
    "    return_tensors=\"pt\"\n",
    ").to(model.device)\n",
    "\n",
    "terminators = [\n",
    "    tokenizer.eos_token_id,\n",
    "    tokenizer.convert_tokens_to_ids(\"<|eot_id|>\")\n",
    "]\n",
    "\n",
    "outputs = model.generate(\n",
    "    input_ids,\n",
    "    max_new_tokens=1024,\n",
    "    eos_token_id=terminators,\n",
    "    do_sample=True,\n",
    "    temperature=0.6,\n",
    "    top_p=0.9,\n",
    ")\n",
    "response = outputs[0][input_ids.shape[-1]:]\n",
    "print(tokenizer.decode(response, skip_special_tokens=True))\n"
   ]
  },
  {
   "cell_type": "code",
   "execution_count": null,
   "id": "5b279582-eba6-4346-8d43-2df6818970f8",
   "metadata": {},
   "outputs": [],
   "source": []
  }
 ],
 "metadata": {
  "kernelspec": {
   "display_name": "analysis-venv",
   "language": "python",
   "name": "analysis-venv"
  },
  "language_info": {
   "codemirror_mode": {
    "name": "ipython",
    "version": 3
   },
   "file_extension": ".py",
   "mimetype": "text/x-python",
   "name": "python",
   "nbconvert_exporter": "python",
   "pygments_lexer": "ipython3",
   "version": "3.11.9"
  },
  "widgets": {
   "application/vnd.jupyter.widget-state+json": {
    "state": {
     "0016b5fc1c8e42e6bb3ea380cd3907d5": {
      "model_module": "@jupyter-widgets/controls",
      "model_module_version": "2.0.0",
      "model_name": "HTMLModel",
      "state": {
       "layout": "IPY_MODEL_a08040b8ae6b4ab1a11e277713943044",
       "style": "IPY_MODEL_7c9cca2b8a5440ffb3f8fa32e7251010",
       "value": " 50.6k/50.6k [00:00&lt;00:00, 6.38MB/s]"
      }
     },
     "0139287f2da841b1b01e0c20b0883fa9": {
      "model_module": "@jupyter-widgets/base",
      "model_module_version": "2.0.0",
      "model_name": "LayoutModel",
      "state": {}
     },
     "021fe3af7fc14b739c6d9c36a9812e09": {
      "model_module": "@jupyter-widgets/controls",
      "model_module_version": "2.0.0",
      "model_name": "HBoxModel",
      "state": {
       "children": [
        "IPY_MODEL_2fed7ebc120d420b9ccad866549f77ee",
        "IPY_MODEL_17c0dc858f334b5baf7ad00a16bc4300",
        "IPY_MODEL_a71bd1f1714e482c94dad2991e4072d7"
       ],
       "layout": "IPY_MODEL_2f3677323bdf41cb9ca3f16c6a2ff936"
      }
     },
     "031a8a9f84ba4d8cbab959b7b16739f5": {
      "model_module": "@jupyter-widgets/controls",
      "model_module_version": "2.0.0",
      "model_name": "HTMLModel",
      "state": {
       "layout": "IPY_MODEL_360d852e91c84362af1e3af70a72be18",
       "style": "IPY_MODEL_72804152d4a945ff9ea84347f0497f5e",
       "value": "model-00001-of-00004.safetensors: 100%"
      }
     },
     "04ddb76a77ee4be88c5e28aa9ef179c1": {
      "model_module": "@jupyter-widgets/controls",
      "model_module_version": "2.0.0",
      "model_name": "HTMLStyleModel",
      "state": {
       "description_width": "",
       "font_size": null,
       "text_color": null
      }
     },
     "04ea36cd49d646088a6e77d472574460": {
      "model_module": "@jupyter-widgets/base",
      "model_module_version": "2.0.0",
      "model_name": "LayoutModel",
      "state": {}
     },
     "05622fadea264a78a3cef985ffceb7f4": {
      "model_module": "@jupyter-widgets/controls",
      "model_module_version": "2.0.0",
      "model_name": "HTMLModel",
      "state": {
       "layout": "IPY_MODEL_6c4b0fc5c5504e8eadd6dd904959d213",
       "style": "IPY_MODEL_3a48ba152b3a406ca2735329d0e1ecac",
       "value": " 9.09M/9.09M [00:00&lt;00:00, 44.7MB/s]"
      }
     },
     "088f1e9711bc46c0b11c509a0439cb1c": {
      "model_module": "@jupyter-widgets/controls",
      "model_module_version": "2.0.0",
      "model_name": "HBoxModel",
      "state": {
       "children": [
        "IPY_MODEL_199afc86dd724ad9a71da1b1d3850925",
        "IPY_MODEL_547e7e281fee47d9bb810e7975ae03e5",
        "IPY_MODEL_a32ee0d185124e529529d16db498efe7"
       ],
       "layout": "IPY_MODEL_934e51c9aef64df184a8966ccd416303"
      }
     },
     "0bcc52ac422341ccbfa06c6740e167e8": {
      "model_module": "@jupyter-widgets/controls",
      "model_module_version": "2.0.0",
      "model_name": "ProgressStyleModel",
      "state": {
       "description_width": ""
      }
     },
     "0c073598202c45cb8ec4f9027d3a98ee": {
      "model_module": "@jupyter-widgets/base",
      "model_module_version": "2.0.0",
      "model_name": "LayoutModel",
      "state": {}
     },
     "0cce24315b1f4c3abafb2ad18705e4dc": {
      "model_module": "@jupyter-widgets/controls",
      "model_module_version": "2.0.0",
      "model_name": "FloatProgressModel",
      "state": {
       "bar_style": "success",
       "layout": "IPY_MODEL_0c073598202c45cb8ec4f9027d3a98ee",
       "max": 4915916176,
       "style": "IPY_MODEL_4e52e0cb060042a88853cde4d1f8fe56",
       "value": 4915916176
      }
     },
     "0f8da299a3f1445bb15bdcb72b5b543e": {
      "model_module": "@jupyter-widgets/controls",
      "model_module_version": "2.0.0",
      "model_name": "HTMLModel",
      "state": {
       "layout": "IPY_MODEL_541abac59bd54acaa80d1fc00b8208b9",
       "style": "IPY_MODEL_91aef7f45294410697f1e2193188a3ea",
       "value": "Downloading shards: 100%"
      }
     },
     "1177b4ad41ac4a879f7676cdca8827b8": {
      "model_module": "@jupyter-widgets/controls",
      "model_module_version": "2.0.0",
      "model_name": "HTMLStyleModel",
      "state": {
       "description_width": "",
       "font_size": null,
       "text_color": null
      }
     },
     "1519f43897a442f1b4ac802051660f1e": {
      "model_module": "@jupyter-widgets/controls",
      "model_module_version": "2.0.0",
      "model_name": "HBoxModel",
      "state": {
       "children": [
        "IPY_MODEL_9517e5ff37254b6f80132df43c11b0b9",
        "IPY_MODEL_22be9ea1d184439586e83eff79e98472",
        "IPY_MODEL_801844f3829e4511bd1df3749503533f"
       ],
       "layout": "IPY_MODEL_dcc1014f348a486fb2973e8f2dea32a1"
      }
     },
     "1611952aaf354e66800704d3acfe3dad": {
      "model_module": "@jupyter-widgets/base",
      "model_module_version": "2.0.0",
      "model_name": "LayoutModel",
      "state": {}
     },
     "17b56aac19e14d279ff02ac29c8af748": {
      "model_module": "@jupyter-widgets/base",
      "model_module_version": "2.0.0",
      "model_name": "LayoutModel",
      "state": {}
     },
     "17c0dc858f334b5baf7ad00a16bc4300": {
      "model_module": "@jupyter-widgets/controls",
      "model_module_version": "2.0.0",
      "model_name": "FloatProgressModel",
      "state": {
       "bar_style": "success",
       "layout": "IPY_MODEL_b99ed6becf8c4db499de418bdfaf08fd",
       "max": 654,
       "style": "IPY_MODEL_4283424eb56640d197016730a4cb0fef",
       "value": 654
      }
     },
     "199afc86dd724ad9a71da1b1d3850925": {
      "model_module": "@jupyter-widgets/controls",
      "model_module_version": "2.0.0",
      "model_name": "HTMLModel",
      "state": {
       "layout": "IPY_MODEL_4de144ac5e4647568454487cedc06b4c",
       "style": "IPY_MODEL_04ddb76a77ee4be88c5e28aa9ef179c1",
       "value": "Loading checkpoint shards: 100%"
      }
     },
     "1af45c05995a42308cac74130cd78db2": {
      "model_module": "@jupyter-widgets/controls",
      "model_module_version": "2.0.0",
      "model_name": "HBoxModel",
      "state": {
       "children": [
        "IPY_MODEL_d6819cf6fca84957bda5ac771509d7a5",
        "IPY_MODEL_e619333bf71a42ec9fa6b77f094cb129",
        "IPY_MODEL_3e151106808e4aa89c87977d6a58057f"
       ],
       "layout": "IPY_MODEL_7fc76ac0cb444e73bc6b2b1bcc67e803"
      }
     },
     "1d63a93f3eae427295cf77c3b9f024bf": {
      "model_module": "@jupyter-widgets/controls",
      "model_module_version": "2.0.0",
      "model_name": "HTMLModel",
      "state": {
       "layout": "IPY_MODEL_9c5c5ae33a744ed3bb93989885421574",
       "style": "IPY_MODEL_73627cbb65fe40e880bbeab0ec257048",
       "value": " 1.17G/1.17G [00:08&lt;00:00, 124MB/s]"
      }
     },
     "1ea423382daa4611ad5e45aa3bdcd365": {
      "model_module": "@jupyter-widgets/controls",
      "model_module_version": "2.0.0",
      "model_name": "HTMLModel",
      "state": {
       "layout": "IPY_MODEL_de9920b27af441aab7d0193536df6704",
       "style": "IPY_MODEL_9df8a8415b5e4290887c80a9bd523f04",
       "value": "model-00004-of-00004.safetensors: 100%"
      }
     },
     "22be9ea1d184439586e83eff79e98472": {
      "model_module": "@jupyter-widgets/controls",
      "model_module_version": "2.0.0",
      "model_name": "FloatProgressModel",
      "state": {
       "bar_style": "success",
       "layout": "IPY_MODEL_7964ac63ccd749c18585786f08ee986e",
       "max": 4999802720,
       "style": "IPY_MODEL_9a0a895bb369467c97604396674fb42d",
       "value": 4999802720
      }
     },
     "23d5cefa2fa5436c817aaac321a00528": {
      "model_module": "@jupyter-widgets/controls",
      "model_module_version": "2.0.0",
      "model_name": "HTMLModel",
      "state": {
       "layout": "IPY_MODEL_edcf3f9489e34c669a40dfc056dea610",
       "style": "IPY_MODEL_f08ab7495bc149d6b30b41f147ebaa2b",
       "value": "generation_config.json: 100%"
      }
     },
     "23d96f3b209b47c788f119e9912e7527": {
      "model_module": "@jupyter-widgets/controls",
      "model_module_version": "2.0.0",
      "model_name": "ProgressStyleModel",
      "state": {
       "description_width": ""
      }
     },
     "27b9b4eea59c480d85fa2dbe5f6bee68": {
      "model_module": "@jupyter-widgets/controls",
      "model_module_version": "2.0.0",
      "model_name": "HTMLStyleModel",
      "state": {
       "description_width": "",
       "font_size": null,
       "text_color": null
      }
     },
     "28ea7bfa40bd431791f9a089e24d23a8": {
      "model_module": "@jupyter-widgets/base",
      "model_module_version": "2.0.0",
      "model_name": "LayoutModel",
      "state": {}
     },
     "29ccae278eed4c32ae6161e41b6dd71c": {
      "model_module": "@jupyter-widgets/controls",
      "model_module_version": "2.0.0",
      "model_name": "HTMLStyleModel",
      "state": {
       "description_width": "",
       "font_size": null,
       "text_color": null
      }
     },
     "2b35f000841c4b0eaf051df2e42a7121": {
      "model_module": "@jupyter-widgets/controls",
      "model_module_version": "2.0.0",
      "model_name": "HTMLStyleModel",
      "state": {
       "description_width": "",
       "font_size": null,
       "text_color": null
      }
     },
     "2dcb962e09e54425ac78dd426ddb5148": {
      "model_module": "@jupyter-widgets/controls",
      "model_module_version": "2.0.0",
      "model_name": "ProgressStyleModel",
      "state": {
       "description_width": ""
      }
     },
     "2e7b7389451b4c0f897d6e5c18557667": {
      "model_module": "@jupyter-widgets/controls",
      "model_module_version": "2.0.0",
      "model_name": "ProgressStyleModel",
      "state": {
       "description_width": ""
      }
     },
     "2f3677323bdf41cb9ca3f16c6a2ff936": {
      "model_module": "@jupyter-widgets/base",
      "model_module_version": "2.0.0",
      "model_name": "LayoutModel",
      "state": {}
     },
     "2fed7ebc120d420b9ccad866549f77ee": {
      "model_module": "@jupyter-widgets/controls",
      "model_module_version": "2.0.0",
      "model_name": "HTMLModel",
      "state": {
       "layout": "IPY_MODEL_87f2d780ce124b068c30eb2052d96e40",
       "style": "IPY_MODEL_33645d39850949ec90cbe0c5f2305f5b",
       "value": "config.json: 100%"
      }
     },
     "30fda343f6d347f99735767ead628fbe": {
      "model_module": "@jupyter-widgets/controls",
      "model_module_version": "2.0.0",
      "model_name": "HBoxModel",
      "state": {
       "children": [
        "IPY_MODEL_aad8f80d8bcd4dceaf9609170c2364ee",
        "IPY_MODEL_de1a9fadd3f34353af1fdf527c30ef8a",
        "IPY_MODEL_e611c16f281e476192484bd5498d02a1"
       ],
       "layout": "IPY_MODEL_acc34be1c5a945d180dfadcdd0bb77c8"
      }
     },
     "33645d39850949ec90cbe0c5f2305f5b": {
      "model_module": "@jupyter-widgets/controls",
      "model_module_version": "2.0.0",
      "model_name": "HTMLStyleModel",
      "state": {
       "description_width": "",
       "font_size": null,
       "text_color": null
      }
     },
     "3395d20e790947f5ac09748435cb3a40": {
      "model_module": "@jupyter-widgets/base",
      "model_module_version": "2.0.0",
      "model_name": "LayoutModel",
      "state": {}
     },
     "33c5b7aa641746feac59ebcc5f2845b4": {
      "model_module": "@jupyter-widgets/base",
      "model_module_version": "2.0.0",
      "model_name": "LayoutModel",
      "state": {}
     },
     "360d852e91c84362af1e3af70a72be18": {
      "model_module": "@jupyter-widgets/base",
      "model_module_version": "2.0.0",
      "model_name": "LayoutModel",
      "state": {}
     },
     "36c9b3966d5d497091e30260b0c1f42a": {
      "model_module": "@jupyter-widgets/controls",
      "model_module_version": "2.0.0",
      "model_name": "HTMLStyleModel",
      "state": {
       "description_width": "",
       "font_size": null,
       "text_color": null
      }
     },
     "37012690a1784d9fa18b152c25711510": {
      "model_module": "@jupyter-widgets/controls",
      "model_module_version": "2.0.0",
      "model_name": "HTMLStyleModel",
      "state": {
       "description_width": "",
       "font_size": null,
       "text_color": null
      }
     },
     "37de3794ca5b4a3e85cc50245e621342": {
      "model_module": "@jupyter-widgets/base",
      "model_module_version": "2.0.0",
      "model_name": "LayoutModel",
      "state": {}
     },
     "3808ad44386547d4ba562da527e9ad8a": {
      "model_module": "@jupyter-widgets/controls",
      "model_module_version": "2.0.0",
      "model_name": "HTMLModel",
      "state": {
       "layout": "IPY_MODEL_9a1d7b26756045e89f6f5fec96e1e728",
       "style": "IPY_MODEL_d4b9c082cbe1435d9caaa28482debb94",
       "value": " 4/4 [00:52&lt;00:00, 13.10s/it]"
      }
     },
     "3a48ba152b3a406ca2735329d0e1ecac": {
      "model_module": "@jupyter-widgets/controls",
      "model_module_version": "2.0.0",
      "model_name": "HTMLStyleModel",
      "state": {
       "description_width": "",
       "font_size": null,
       "text_color": null
      }
     },
     "3b80170e2f3f4e549a2907d3b09b15f4": {
      "model_module": "@jupyter-widgets/controls",
      "model_module_version": "2.0.0",
      "model_name": "ProgressStyleModel",
      "state": {
       "description_width": ""
      }
     },
     "3cae1db4276b4aeead46078365ba4995": {
      "model_module": "@jupyter-widgets/base",
      "model_module_version": "2.0.0",
      "model_name": "LayoutModel",
      "state": {}
     },
     "3d366b38a1b244628bc44007053ef10d": {
      "model_module": "@jupyter-widgets/controls",
      "model_module_version": "2.0.0",
      "model_name": "FloatProgressModel",
      "state": {
       "bar_style": "success",
       "layout": "IPY_MODEL_e99cc52965ec43169a23edf13809515b",
       "max": 4,
       "style": "IPY_MODEL_23d96f3b209b47c788f119e9912e7527",
       "value": 4
      }
     },
     "3e151106808e4aa89c87977d6a58057f": {
      "model_module": "@jupyter-widgets/controls",
      "model_module_version": "2.0.0",
      "model_name": "HTMLModel",
      "state": {
       "layout": "IPY_MODEL_bb1cf7b1c9fb4dd3a217d132e4ca4ac9",
       "style": "IPY_MODEL_eb9d5ef1ba604cd4bd596f9c2443e042",
       "value": " 73.0/73.0 [00:00&lt;00:00, 14.2kB/s]"
      }
     },
     "4096538c7bc7479ea14f51a76e16abf0": {
      "model_module": "@jupyter-widgets/controls",
      "model_module_version": "2.0.0",
      "model_name": "ProgressStyleModel",
      "state": {
       "description_width": ""
      }
     },
     "417d651a6ae8488f8bea975355632f82": {
      "model_module": "@jupyter-widgets/controls",
      "model_module_version": "2.0.0",
      "model_name": "HTMLModel",
      "state": {
       "layout": "IPY_MODEL_f15ea51a262c4c358c369ac81fcb5e08",
       "style": "IPY_MODEL_1177b4ad41ac4a879f7676cdca8827b8",
       "value": "Loading checkpoint shards: 100%"
      }
     },
     "4283424eb56640d197016730a4cb0fef": {
      "model_module": "@jupyter-widgets/controls",
      "model_module_version": "2.0.0",
      "model_name": "ProgressStyleModel",
      "state": {
       "description_width": ""
      }
     },
     "428bbc91515a4c55aa43c90c46677db4": {
      "model_module": "@jupyter-widgets/base",
      "model_module_version": "2.0.0",
      "model_name": "LayoutModel",
      "state": {}
     },
     "469b50541e4c47739099306a1218127e": {
      "model_module": "@jupyter-widgets/base",
      "model_module_version": "2.0.0",
      "model_name": "LayoutModel",
      "state": {}
     },
     "47e0cddb0a24435c8c5f956fd7388099": {
      "model_module": "@jupyter-widgets/base",
      "model_module_version": "2.0.0",
      "model_name": "LayoutModel",
      "state": {}
     },
     "48a4ef4e684140b48812b65c6c6236c4": {
      "model_module": "@jupyter-widgets/controls",
      "model_module_version": "2.0.0",
      "model_name": "ProgressStyleModel",
      "state": {
       "description_width": ""
      }
     },
     "4a9f80c7812c4d81977556a2d68635ac": {
      "model_module": "@jupyter-widgets/base",
      "model_module_version": "2.0.0",
      "model_name": "LayoutModel",
      "state": {}
     },
     "4c2412f478954bfa883ee9f61d5ffcca": {
      "model_module": "@jupyter-widgets/base",
      "model_module_version": "2.0.0",
      "model_name": "LayoutModel",
      "state": {}
     },
     "4de144ac5e4647568454487cedc06b4c": {
      "model_module": "@jupyter-widgets/base",
      "model_module_version": "2.0.0",
      "model_name": "LayoutModel",
      "state": {}
     },
     "4e52e0cb060042a88853cde4d1f8fe56": {
      "model_module": "@jupyter-widgets/controls",
      "model_module_version": "2.0.0",
      "model_name": "ProgressStyleModel",
      "state": {
       "description_width": ""
      }
     },
     "541abac59bd54acaa80d1fc00b8208b9": {
      "model_module": "@jupyter-widgets/base",
      "model_module_version": "2.0.0",
      "model_name": "LayoutModel",
      "state": {}
     },
     "547e7e281fee47d9bb810e7975ae03e5": {
      "model_module": "@jupyter-widgets/controls",
      "model_module_version": "2.0.0",
      "model_name": "FloatProgressModel",
      "state": {
       "bar_style": "success",
       "layout": "IPY_MODEL_dcaa72e8b8204552a02e8ce747cec236",
       "max": 4,
       "style": "IPY_MODEL_0bcc52ac422341ccbfa06c6740e167e8",
       "value": 4
      }
     },
     "54d7277bf0bf4959ac7cad34aae2be07": {
      "model_module": "@jupyter-widgets/base",
      "model_module_version": "2.0.0",
      "model_name": "LayoutModel",
      "state": {}
     },
     "5a385f38d435452999cabf750fe4c718": {
      "model_module": "@jupyter-widgets/controls",
      "model_module_version": "2.0.0",
      "model_name": "HBoxModel",
      "state": {
       "children": [
        "IPY_MODEL_e0c60ec4d8564029b35a8f2c4f4042c5",
        "IPY_MODEL_c7fca50b58704c25a4a1aa94eb84f8ef",
        "IPY_MODEL_05622fadea264a78a3cef985ffceb7f4"
       ],
       "layout": "IPY_MODEL_667032057b0b4d048c23313263c501d8"
      }
     },
     "5b63d3ad89de447e8df27701a97645da": {
      "model_module": "@jupyter-widgets/controls",
      "model_module_version": "2.0.0",
      "model_name": "ProgressStyleModel",
      "state": {
       "description_width": ""
      }
     },
     "5bae15f3f0be4b6b9cb684555419bced": {
      "model_module": "@jupyter-widgets/controls",
      "model_module_version": "2.0.0",
      "model_name": "ProgressStyleModel",
      "state": {
       "description_width": ""
      }
     },
     "5bfd7854dc4d482b8887d2cedb104e67": {
      "model_module": "@jupyter-widgets/controls",
      "model_module_version": "2.0.0",
      "model_name": "HTMLModel",
      "state": {
       "layout": "IPY_MODEL_ef3ea4ac5056429ba075b0a4f968ef49",
       "style": "IPY_MODEL_961c945259e04b31a83120972a1cdbe0",
       "value": "tokenizer_config.json: 100%"
      }
     },
     "61d47dee8679494fa27f6ea617b0dda1": {
      "model_module": "@jupyter-widgets/controls",
      "model_module_version": "2.0.0",
      "model_name": "FloatProgressModel",
      "state": {
       "bar_style": "success",
       "layout": "IPY_MODEL_17b56aac19e14d279ff02ac29c8af748",
       "max": 1168138808,
       "style": "IPY_MODEL_7512c6b864db4d23a2f925bddf1fe5aa",
       "value": 1168138808
      }
     },
     "646666ce2d3c4e53975233d3bfd5503f": {
      "model_module": "@jupyter-widgets/controls",
      "model_module_version": "2.0.0",
      "model_name": "HBoxModel",
      "state": {
       "children": [
        "IPY_MODEL_031a8a9f84ba4d8cbab959b7b16739f5",
        "IPY_MODEL_bb7eaed0a4014951ae9efa76ca111344",
        "IPY_MODEL_ac558145694b483981396a3e3eb9ca60"
       ],
       "layout": "IPY_MODEL_47e0cddb0a24435c8c5f956fd7388099"
      }
     },
     "667032057b0b4d048c23313263c501d8": {
      "model_module": "@jupyter-widgets/base",
      "model_module_version": "2.0.0",
      "model_name": "LayoutModel",
      "state": {}
     },
     "66a3a1ce8a384759a24b1cfb2f01ea6a": {
      "model_module": "@jupyter-widgets/base",
      "model_module_version": "2.0.0",
      "model_name": "LayoutModel",
      "state": {}
     },
     "6ae55af521444f218c3a5245e7aaf8e2": {
      "model_module": "@jupyter-widgets/controls",
      "model_module_version": "2.0.0",
      "model_name": "FloatProgressModel",
      "state": {
       "bar_style": "success",
       "layout": "IPY_MODEL_807ee92e597540d4ba351f406e4e39ba",
       "max": 50566,
       "style": "IPY_MODEL_2e7b7389451b4c0f897d6e5c18557667",
       "value": 50566
      }
     },
     "6c4b0fc5c5504e8eadd6dd904959d213": {
      "model_module": "@jupyter-widgets/base",
      "model_module_version": "2.0.0",
      "model_name": "LayoutModel",
      "state": {}
     },
     "6c9274a8440c476f902c9df4d320d906": {
      "model_module": "@jupyter-widgets/controls",
      "model_module_version": "2.0.0",
      "model_name": "HBoxModel",
      "state": {
       "children": [
        "IPY_MODEL_d4908f66378644afacff04eda50351c4",
        "IPY_MODEL_0cce24315b1f4c3abafb2ad18705e4dc",
        "IPY_MODEL_a6269f8e4422409eb2300a205766772d"
       ],
       "layout": "IPY_MODEL_04ea36cd49d646088a6e77d472574460"
      }
     },
     "72804152d4a945ff9ea84347f0497f5e": {
      "model_module": "@jupyter-widgets/controls",
      "model_module_version": "2.0.0",
      "model_name": "HTMLStyleModel",
      "state": {
       "description_width": "",
       "font_size": null,
       "text_color": null
      }
     },
     "73627cbb65fe40e880bbeab0ec257048": {
      "model_module": "@jupyter-widgets/controls",
      "model_module_version": "2.0.0",
      "model_name": "HTMLStyleModel",
      "state": {
       "description_width": "",
       "font_size": null,
       "text_color": null
      }
     },
     "7512c6b864db4d23a2f925bddf1fe5aa": {
      "model_module": "@jupyter-widgets/controls",
      "model_module_version": "2.0.0",
      "model_name": "ProgressStyleModel",
      "state": {
       "description_width": ""
      }
     },
     "75970c3f2644409297bd8475b51a0d49": {
      "model_module": "@jupyter-widgets/controls",
      "model_module_version": "2.0.0",
      "model_name": "HTMLModel",
      "state": {
       "layout": "IPY_MODEL_37de3794ca5b4a3e85cc50245e621342",
       "style": "IPY_MODEL_939d35461d524fc0abab17105dc5e530",
       "value": " 4/4 [00:00&lt;00:00,  9.11it/s]"
      }
     },
     "75dce2b3aa224f78a7b032ac614a83bc": {
      "model_module": "@jupyter-widgets/controls",
      "model_module_version": "2.0.0",
      "model_name": "HTMLStyleModel",
      "state": {
       "description_width": "",
       "font_size": null,
       "text_color": null
      }
     },
     "788804f2314445f7a7197a69ad8aaf9f": {
      "model_module": "@jupyter-widgets/base",
      "model_module_version": "2.0.0",
      "model_name": "LayoutModel",
      "state": {}
     },
     "7964ac63ccd749c18585786f08ee986e": {
      "model_module": "@jupyter-widgets/base",
      "model_module_version": "2.0.0",
      "model_name": "LayoutModel",
      "state": {}
     },
     "7c9cca2b8a5440ffb3f8fa32e7251010": {
      "model_module": "@jupyter-widgets/controls",
      "model_module_version": "2.0.0",
      "model_name": "HTMLStyleModel",
      "state": {
       "description_width": "",
       "font_size": null,
       "text_color": null
      }
     },
     "7fc76ac0cb444e73bc6b2b1bcc67e803": {
      "model_module": "@jupyter-widgets/base",
      "model_module_version": "2.0.0",
      "model_name": "LayoutModel",
      "state": {}
     },
     "801844f3829e4511bd1df3749503533f": {
      "model_module": "@jupyter-widgets/controls",
      "model_module_version": "2.0.0",
      "model_name": "HTMLModel",
      "state": {
       "layout": "IPY_MODEL_33c5b7aa641746feac59ebcc5f2845b4",
       "style": "IPY_MODEL_2b35f000841c4b0eaf051df2e42a7121",
       "value": " 5.00G/5.00G [00:11&lt;00:00, 486MB/s]"
      }
     },
     "807ee92e597540d4ba351f406e4e39ba": {
      "model_module": "@jupyter-widgets/base",
      "model_module_version": "2.0.0",
      "model_name": "LayoutModel",
      "state": {}
     },
     "81d97ee7ccf84cd797270ba0e889c0fb": {
      "model_module": "@jupyter-widgets/controls",
      "model_module_version": "2.0.0",
      "model_name": "HBoxModel",
      "state": {
       "children": [
        "IPY_MODEL_8b3ebd7109664bdf88e00e345993e6cd",
        "IPY_MODEL_b5a1814c48d34e9ca545780d073c3826",
        "IPY_MODEL_75970c3f2644409297bd8475b51a0d49"
       ],
       "layout": "IPY_MODEL_910216a3c50845afb7031cb805b1a7bc"
      }
     },
     "87f2d780ce124b068c30eb2052d96e40": {
      "model_module": "@jupyter-widgets/base",
      "model_module_version": "2.0.0",
      "model_name": "LayoutModel",
      "state": {}
     },
     "8b3ebd7109664bdf88e00e345993e6cd": {
      "model_module": "@jupyter-widgets/controls",
      "model_module_version": "2.0.0",
      "model_name": "HTMLModel",
      "state": {
       "layout": "IPY_MODEL_4c2412f478954bfa883ee9f61d5ffcca",
       "style": "IPY_MODEL_f4de4b181c534a4a942f09d74048313a",
       "value": "Loading checkpoint shards: 100%"
      }
     },
     "910216a3c50845afb7031cb805b1a7bc": {
      "model_module": "@jupyter-widgets/base",
      "model_module_version": "2.0.0",
      "model_name": "LayoutModel",
      "state": {}
     },
     "91aef7f45294410697f1e2193188a3ea": {
      "model_module": "@jupyter-widgets/controls",
      "model_module_version": "2.0.0",
      "model_name": "HTMLStyleModel",
      "state": {
       "description_width": "",
       "font_size": null,
       "text_color": null
      }
     },
     "91bd953b9add43c6beb96e260288f9b9": {
      "model_module": "@jupyter-widgets/controls",
      "model_module_version": "2.0.0",
      "model_name": "HTMLModel",
      "state": {
       "layout": "IPY_MODEL_54d7277bf0bf4959ac7cad34aae2be07",
       "style": "IPY_MODEL_27b9b4eea59c480d85fa2dbe5f6bee68",
       "value": " 177/177 [00:00&lt;00:00, 31.2kB/s]"
      }
     },
     "934e51c9aef64df184a8966ccd416303": {
      "model_module": "@jupyter-widgets/base",
      "model_module_version": "2.0.0",
      "model_name": "LayoutModel",
      "state": {}
     },
     "939d35461d524fc0abab17105dc5e530": {
      "model_module": "@jupyter-widgets/controls",
      "model_module_version": "2.0.0",
      "model_name": "HTMLStyleModel",
      "state": {
       "description_width": "",
       "font_size": null,
       "text_color": null
      }
     },
     "9517e5ff37254b6f80132df43c11b0b9": {
      "model_module": "@jupyter-widgets/controls",
      "model_module_version": "2.0.0",
      "model_name": "HTMLModel",
      "state": {
       "layout": "IPY_MODEL_4a9f80c7812c4d81977556a2d68635ac",
       "style": "IPY_MODEL_c9a75a6e20e64c92b625e0a5fa81f5a7",
       "value": "model-00002-of-00004.safetensors: 100%"
      }
     },
     "961c945259e04b31a83120972a1cdbe0": {
      "model_module": "@jupyter-widgets/controls",
      "model_module_version": "2.0.0",
      "model_name": "HTMLStyleModel",
      "state": {
       "description_width": "",
       "font_size": null,
       "text_color": null
      }
     },
     "9a0a895bb369467c97604396674fb42d": {
      "model_module": "@jupyter-widgets/controls",
      "model_module_version": "2.0.0",
      "model_name": "ProgressStyleModel",
      "state": {
       "description_width": ""
      }
     },
     "9a1d7b26756045e89f6f5fec96e1e728": {
      "model_module": "@jupyter-widgets/base",
      "model_module_version": "2.0.0",
      "model_name": "LayoutModel",
      "state": {}
     },
     "9c5c5ae33a744ed3bb93989885421574": {
      "model_module": "@jupyter-widgets/base",
      "model_module_version": "2.0.0",
      "model_name": "LayoutModel",
      "state": {}
     },
     "9df8a8415b5e4290887c80a9bd523f04": {
      "model_module": "@jupyter-widgets/controls",
      "model_module_version": "2.0.0",
      "model_name": "HTMLStyleModel",
      "state": {
       "description_width": "",
       "font_size": null,
       "text_color": null
      }
     },
     "9edc26d1159941c1b0a0967a1980ab29": {
      "model_module": "@jupyter-widgets/controls",
      "model_module_version": "2.0.0",
      "model_name": "HTMLStyleModel",
      "state": {
       "description_width": "",
       "font_size": null,
       "text_color": null
      }
     },
     "a08040b8ae6b4ab1a11e277713943044": {
      "model_module": "@jupyter-widgets/base",
      "model_module_version": "2.0.0",
      "model_name": "LayoutModel",
      "state": {}
     },
     "a32ee0d185124e529529d16db498efe7": {
      "model_module": "@jupyter-widgets/controls",
      "model_module_version": "2.0.0",
      "model_name": "HTMLModel",
      "state": {
       "layout": "IPY_MODEL_3395d20e790947f5ac09748435cb3a40",
       "style": "IPY_MODEL_d0ff4cfe799345558bfd9f35a0c95180",
       "value": " 4/4 [00:05&lt;00:00,  1.19s/it]"
      }
     },
     "a6269f8e4422409eb2300a205766772d": {
      "model_module": "@jupyter-widgets/controls",
      "model_module_version": "2.0.0",
      "model_name": "HTMLModel",
      "state": {
       "layout": "IPY_MODEL_3cae1db4276b4aeead46078365ba4995",
       "style": "IPY_MODEL_37012690a1784d9fa18b152c25711510",
       "value": " 4.92G/4.92G [00:21&lt;00:00, 124MB/s]"
      }
     },
     "a71bd1f1714e482c94dad2991e4072d7": {
      "model_module": "@jupyter-widgets/controls",
      "model_module_version": "2.0.0",
      "model_name": "HTMLModel",
      "state": {
       "layout": "IPY_MODEL_f4199d7b02914e719cc4ea8b02b62949",
       "style": "IPY_MODEL_fbe9ac4141df413c83c18972400c11a0",
       "value": " 654/654 [00:00&lt;00:00, 128kB/s]"
      }
     },
     "a9b528ac858e4b3abd207c3ee73ddc7f": {
      "model_module": "@jupyter-widgets/base",
      "model_module_version": "2.0.0",
      "model_name": "LayoutModel",
      "state": {}
     },
     "aad8f80d8bcd4dceaf9609170c2364ee": {
      "model_module": "@jupyter-widgets/controls",
      "model_module_version": "2.0.0",
      "model_name": "HTMLModel",
      "state": {
       "layout": "IPY_MODEL_428bbc91515a4c55aa43c90c46677db4",
       "style": "IPY_MODEL_9edc26d1159941c1b0a0967a1980ab29",
       "value": "model.safetensors.index.json: 100%"
      }
     },
     "ab188dd8bcae46bea75893f76e2b395f": {
      "model_module": "@jupyter-widgets/controls",
      "model_module_version": "2.0.0",
      "model_name": "HBoxModel",
      "state": {
       "children": [
        "IPY_MODEL_1ea423382daa4611ad5e45aa3bdcd365",
        "IPY_MODEL_61d47dee8679494fa27f6ea617b0dda1",
        "IPY_MODEL_1d63a93f3eae427295cf77c3b9f024bf"
       ],
       "layout": "IPY_MODEL_d6de6196fa1e48eb89c9592793cfec79"
      }
     },
     "ac558145694b483981396a3e3eb9ca60": {
      "model_module": "@jupyter-widgets/controls",
      "model_module_version": "2.0.0",
      "model_name": "HTMLModel",
      "state": {
       "layout": "IPY_MODEL_cfb1c569c54649ac800afe6545b544b6",
       "style": "IPY_MODEL_75dce2b3aa224f78a7b032ac614a83bc",
       "value": " 4.98G/4.98G [00:10&lt;00:00, 508MB/s]"
      }
     },
     "acc34be1c5a945d180dfadcdd0bb77c8": {
      "model_module": "@jupyter-widgets/base",
      "model_module_version": "2.0.0",
      "model_name": "LayoutModel",
      "state": {}
     },
     "b2f7c2b8d63449129b0795520fd23591": {
      "model_module": "@jupyter-widgets/controls",
      "model_module_version": "2.0.0",
      "model_name": "HBoxModel",
      "state": {
       "children": [
        "IPY_MODEL_417d651a6ae8488f8bea975355632f82",
        "IPY_MODEL_bb8a613f1a4549f39fb2b8174285bbae",
        "IPY_MODEL_b90ed6c9bd3c4c78a4f52a3e55b35b32"
       ],
       "layout": "IPY_MODEL_1611952aaf354e66800704d3acfe3dad"
      }
     },
     "b5a1814c48d34e9ca545780d073c3826": {
      "model_module": "@jupyter-widgets/controls",
      "model_module_version": "2.0.0",
      "model_name": "FloatProgressModel",
      "state": {
       "bar_style": "success",
       "layout": "IPY_MODEL_b741a90a408d4505b8bbb94aa15bf446",
       "max": 4,
       "style": "IPY_MODEL_5b63d3ad89de447e8df27701a97645da",
       "value": 4
      }
     },
     "b6ba4239647f49979e0b8f5f57329d78": {
      "model_module": "@jupyter-widgets/controls",
      "model_module_version": "2.0.0",
      "model_name": "HBoxModel",
      "state": {
       "children": [
        "IPY_MODEL_23d5cefa2fa5436c817aaac321a00528",
        "IPY_MODEL_c363fc4644774211819c2e1cc20c0f9a",
        "IPY_MODEL_91bd953b9add43c6beb96e260288f9b9"
       ],
       "layout": "IPY_MODEL_c4ce399936734a3fa8b304954a007c62"
      }
     },
     "b741a90a408d4505b8bbb94aa15bf446": {
      "model_module": "@jupyter-widgets/base",
      "model_module_version": "2.0.0",
      "model_name": "LayoutModel",
      "state": {}
     },
     "b90ed6c9bd3c4c78a4f52a3e55b35b32": {
      "model_module": "@jupyter-widgets/controls",
      "model_module_version": "2.0.0",
      "model_name": "HTMLModel",
      "state": {
       "layout": "IPY_MODEL_66a3a1ce8a384759a24b1cfb2f01ea6a",
       "style": "IPY_MODEL_36c9b3966d5d497091e30260b0c1f42a",
       "value": " 4/4 [01:55&lt;00:00, 22.91s/it]"
      }
     },
     "b99ed6becf8c4db499de418bdfaf08fd": {
      "model_module": "@jupyter-widgets/base",
      "model_module_version": "2.0.0",
      "model_name": "LayoutModel",
      "state": {}
     },
     "ba45521e9a0c4b539d43b7eaa307c001": {
      "model_module": "@jupyter-widgets/base",
      "model_module_version": "2.0.0",
      "model_name": "LayoutModel",
      "state": {}
     },
     "bb1cf7b1c9fb4dd3a217d132e4ca4ac9": {
      "model_module": "@jupyter-widgets/base",
      "model_module_version": "2.0.0",
      "model_name": "LayoutModel",
      "state": {}
     },
     "bb7eaed0a4014951ae9efa76ca111344": {
      "model_module": "@jupyter-widgets/controls",
      "model_module_version": "2.0.0",
      "model_name": "FloatProgressModel",
      "state": {
       "bar_style": "success",
       "layout": "IPY_MODEL_ba45521e9a0c4b539d43b7eaa307c001",
       "max": 4976698672,
       "style": "IPY_MODEL_48a4ef4e684140b48812b65c6c6236c4",
       "value": 4976698672
      }
     },
     "bb8a613f1a4549f39fb2b8174285bbae": {
      "model_module": "@jupyter-widgets/controls",
      "model_module_version": "2.0.0",
      "model_name": "FloatProgressModel",
      "state": {
       "bar_style": "success",
       "layout": "IPY_MODEL_788804f2314445f7a7197a69ad8aaf9f",
       "max": 4,
       "style": "IPY_MODEL_2dcb962e09e54425ac78dd426ddb5148",
       "value": 4
      }
     },
     "c363fc4644774211819c2e1cc20c0f9a": {
      "model_module": "@jupyter-widgets/controls",
      "model_module_version": "2.0.0",
      "model_name": "FloatProgressModel",
      "state": {
       "bar_style": "success",
       "layout": "IPY_MODEL_f9beef2223a042a187a428cc850acd5f",
       "max": 177,
       "style": "IPY_MODEL_4096538c7bc7479ea14f51a76e16abf0",
       "value": 177
      }
     },
     "c4ce399936734a3fa8b304954a007c62": {
      "model_module": "@jupyter-widgets/base",
      "model_module_version": "2.0.0",
      "model_name": "LayoutModel",
      "state": {}
     },
     "c5e0f315b610405bb1c9a10ddea21934": {
      "model_module": "@jupyter-widgets/base",
      "model_module_version": "2.0.0",
      "model_name": "LayoutModel",
      "state": {}
     },
     "c7fca50b58704c25a4a1aa94eb84f8ef": {
      "model_module": "@jupyter-widgets/controls",
      "model_module_version": "2.0.0",
      "model_name": "FloatProgressModel",
      "state": {
       "bar_style": "success",
       "layout": "IPY_MODEL_0139287f2da841b1b01e0c20b0883fa9",
       "max": 9085698,
       "style": "IPY_MODEL_eb89d8415b0a4b9b9f6235074dd9e997",
       "value": 9085698
      }
     },
     "c9a75a6e20e64c92b625e0a5fa81f5a7": {
      "model_module": "@jupyter-widgets/controls",
      "model_module_version": "2.0.0",
      "model_name": "HTMLStyleModel",
      "state": {
       "description_width": "",
       "font_size": null,
       "text_color": null
      }
     },
     "ca6d45af261c4937a747046328a70e66": {
      "model_module": "@jupyter-widgets/controls",
      "model_module_version": "2.0.0",
      "model_name": "HTMLStyleModel",
      "state": {
       "description_width": "",
       "font_size": null,
       "text_color": null
      }
     },
     "cfb1c569c54649ac800afe6545b544b6": {
      "model_module": "@jupyter-widgets/base",
      "model_module_version": "2.0.0",
      "model_name": "LayoutModel",
      "state": {}
     },
     "d0568b1908eb4e6a98cb82d5c3809fc1": {
      "model_module": "@jupyter-widgets/base",
      "model_module_version": "2.0.0",
      "model_name": "LayoutModel",
      "state": {}
     },
     "d0ff4cfe799345558bfd9f35a0c95180": {
      "model_module": "@jupyter-widgets/controls",
      "model_module_version": "2.0.0",
      "model_name": "HTMLStyleModel",
      "state": {
       "description_width": "",
       "font_size": null,
       "text_color": null
      }
     },
     "d17705528eb541ab80e560d76e9d0c2d": {
      "model_module": "@jupyter-widgets/controls",
      "model_module_version": "2.0.0",
      "model_name": "HBoxModel",
      "state": {
       "children": [
        "IPY_MODEL_5bfd7854dc4d482b8887d2cedb104e67",
        "IPY_MODEL_6ae55af521444f218c3a5245e7aaf8e2",
        "IPY_MODEL_0016b5fc1c8e42e6bb3ea380cd3907d5"
       ],
       "layout": "IPY_MODEL_fad61082efc242ecbb96c652ab494046"
      }
     },
     "d47e2b2bf05745829849ba768551b6d6": {
      "model_module": "@jupyter-widgets/controls",
      "model_module_version": "2.0.0",
      "model_name": "HBoxModel",
      "state": {
       "children": [
        "IPY_MODEL_0f8da299a3f1445bb15bdcb72b5b543e",
        "IPY_MODEL_3d366b38a1b244628bc44007053ef10d",
        "IPY_MODEL_3808ad44386547d4ba562da527e9ad8a"
       ],
       "layout": "IPY_MODEL_de508beca50e455fa71f5482ce57a24b"
      }
     },
     "d4908f66378644afacff04eda50351c4": {
      "model_module": "@jupyter-widgets/controls",
      "model_module_version": "2.0.0",
      "model_name": "HTMLModel",
      "state": {
       "layout": "IPY_MODEL_28ea7bfa40bd431791f9a089e24d23a8",
       "style": "IPY_MODEL_ca6d45af261c4937a747046328a70e66",
       "value": "model-00003-of-00004.safetensors: 100%"
      }
     },
     "d4b9c082cbe1435d9caaa28482debb94": {
      "model_module": "@jupyter-widgets/controls",
      "model_module_version": "2.0.0",
      "model_name": "HTMLStyleModel",
      "state": {
       "description_width": "",
       "font_size": null,
       "text_color": null
      }
     },
     "d6819cf6fca84957bda5ac771509d7a5": {
      "model_module": "@jupyter-widgets/controls",
      "model_module_version": "2.0.0",
      "model_name": "HTMLModel",
      "state": {
       "layout": "IPY_MODEL_d0568b1908eb4e6a98cb82d5c3809fc1",
       "style": "IPY_MODEL_fb189133ccac483983a19f8599ef2cd0",
       "value": "special_tokens_map.json: 100%"
      }
     },
     "d6de6196fa1e48eb89c9592793cfec79": {
      "model_module": "@jupyter-widgets/base",
      "model_module_version": "2.0.0",
      "model_name": "LayoutModel",
      "state": {}
     },
     "dcaa72e8b8204552a02e8ce747cec236": {
      "model_module": "@jupyter-widgets/base",
      "model_module_version": "2.0.0",
      "model_name": "LayoutModel",
      "state": {}
     },
     "dcc1014f348a486fb2973e8f2dea32a1": {
      "model_module": "@jupyter-widgets/base",
      "model_module_version": "2.0.0",
      "model_name": "LayoutModel",
      "state": {}
     },
     "de1a9fadd3f34353af1fdf527c30ef8a": {
      "model_module": "@jupyter-widgets/controls",
      "model_module_version": "2.0.0",
      "model_name": "FloatProgressModel",
      "state": {
       "bar_style": "success",
       "layout": "IPY_MODEL_c5e0f315b610405bb1c9a10ddea21934",
       "max": 23950,
       "style": "IPY_MODEL_3b80170e2f3f4e549a2907d3b09b15f4",
       "value": 23950
      }
     },
     "de508beca50e455fa71f5482ce57a24b": {
      "model_module": "@jupyter-widgets/base",
      "model_module_version": "2.0.0",
      "model_name": "LayoutModel",
      "state": {}
     },
     "de9920b27af441aab7d0193536df6704": {
      "model_module": "@jupyter-widgets/base",
      "model_module_version": "2.0.0",
      "model_name": "LayoutModel",
      "state": {}
     },
     "e0c60ec4d8564029b35a8f2c4f4042c5": {
      "model_module": "@jupyter-widgets/controls",
      "model_module_version": "2.0.0",
      "model_name": "HTMLModel",
      "state": {
       "layout": "IPY_MODEL_a9b528ac858e4b3abd207c3ee73ddc7f",
       "style": "IPY_MODEL_29ccae278eed4c32ae6161e41b6dd71c",
       "value": "tokenizer.json: 100%"
      }
     },
     "e611c16f281e476192484bd5498d02a1": {
      "model_module": "@jupyter-widgets/controls",
      "model_module_version": "2.0.0",
      "model_name": "HTMLModel",
      "state": {
       "layout": "IPY_MODEL_ed62c1b6edd547efb6fb0171b99b4e76",
       "style": "IPY_MODEL_f5afae97642b4c3fb2ebef1520a52683",
       "value": " 23.9k/23.9k [00:00&lt;00:00, 4.30MB/s]"
      }
     },
     "e619333bf71a42ec9fa6b77f094cb129": {
      "model_module": "@jupyter-widgets/controls",
      "model_module_version": "2.0.0",
      "model_name": "FloatProgressModel",
      "state": {
       "bar_style": "success",
       "layout": "IPY_MODEL_469b50541e4c47739099306a1218127e",
       "max": 73,
       "style": "IPY_MODEL_5bae15f3f0be4b6b9cb684555419bced",
       "value": 73
      }
     },
     "e99cc52965ec43169a23edf13809515b": {
      "model_module": "@jupyter-widgets/base",
      "model_module_version": "2.0.0",
      "model_name": "LayoutModel",
      "state": {}
     },
     "eb89d8415b0a4b9b9f6235074dd9e997": {
      "model_module": "@jupyter-widgets/controls",
      "model_module_version": "2.0.0",
      "model_name": "ProgressStyleModel",
      "state": {
       "description_width": ""
      }
     },
     "eb9d5ef1ba604cd4bd596f9c2443e042": {
      "model_module": "@jupyter-widgets/controls",
      "model_module_version": "2.0.0",
      "model_name": "HTMLStyleModel",
      "state": {
       "description_width": "",
       "font_size": null,
       "text_color": null
      }
     },
     "ed62c1b6edd547efb6fb0171b99b4e76": {
      "model_module": "@jupyter-widgets/base",
      "model_module_version": "2.0.0",
      "model_name": "LayoutModel",
      "state": {}
     },
     "edcf3f9489e34c669a40dfc056dea610": {
      "model_module": "@jupyter-widgets/base",
      "model_module_version": "2.0.0",
      "model_name": "LayoutModel",
      "state": {}
     },
     "ef3ea4ac5056429ba075b0a4f968ef49": {
      "model_module": "@jupyter-widgets/base",
      "model_module_version": "2.0.0",
      "model_name": "LayoutModel",
      "state": {}
     },
     "f08ab7495bc149d6b30b41f147ebaa2b": {
      "model_module": "@jupyter-widgets/controls",
      "model_module_version": "2.0.0",
      "model_name": "HTMLStyleModel",
      "state": {
       "description_width": "",
       "font_size": null,
       "text_color": null
      }
     },
     "f15ea51a262c4c358c369ac81fcb5e08": {
      "model_module": "@jupyter-widgets/base",
      "model_module_version": "2.0.0",
      "model_name": "LayoutModel",
      "state": {}
     },
     "f4199d7b02914e719cc4ea8b02b62949": {
      "model_module": "@jupyter-widgets/base",
      "model_module_version": "2.0.0",
      "model_name": "LayoutModel",
      "state": {}
     },
     "f4de4b181c534a4a942f09d74048313a": {
      "model_module": "@jupyter-widgets/controls",
      "model_module_version": "2.0.0",
      "model_name": "HTMLStyleModel",
      "state": {
       "description_width": "",
       "font_size": null,
       "text_color": null
      }
     },
     "f5afae97642b4c3fb2ebef1520a52683": {
      "model_module": "@jupyter-widgets/controls",
      "model_module_version": "2.0.0",
      "model_name": "HTMLStyleModel",
      "state": {
       "description_width": "",
       "font_size": null,
       "text_color": null
      }
     },
     "f9beef2223a042a187a428cc850acd5f": {
      "model_module": "@jupyter-widgets/base",
      "model_module_version": "2.0.0",
      "model_name": "LayoutModel",
      "state": {}
     },
     "fad61082efc242ecbb96c652ab494046": {
      "model_module": "@jupyter-widgets/base",
      "model_module_version": "2.0.0",
      "model_name": "LayoutModel",
      "state": {}
     },
     "fb189133ccac483983a19f8599ef2cd0": {
      "model_module": "@jupyter-widgets/controls",
      "model_module_version": "2.0.0",
      "model_name": "HTMLStyleModel",
      "state": {
       "description_width": "",
       "font_size": null,
       "text_color": null
      }
     },
     "fbe9ac4141df413c83c18972400c11a0": {
      "model_module": "@jupyter-widgets/controls",
      "model_module_version": "2.0.0",
      "model_name": "HTMLStyleModel",
      "state": {
       "description_width": "",
       "font_size": null,
       "text_color": null
      }
     }
    },
    "version_major": 2,
    "version_minor": 0
   }
  }
 },
 "nbformat": 4,
 "nbformat_minor": 5
}
